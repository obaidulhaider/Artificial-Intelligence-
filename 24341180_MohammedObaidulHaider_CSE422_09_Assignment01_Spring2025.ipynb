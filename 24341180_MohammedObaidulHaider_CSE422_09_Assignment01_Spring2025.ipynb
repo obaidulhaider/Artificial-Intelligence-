{
  "nbformat": 4,
  "nbformat_minor": 0,
  "metadata": {
    "colab": {
      "provenance": []
    },
    "kernelspec": {
      "name": "python3",
      "display_name": "Python 3"
    },
    "language_info": {
      "name": "python"
    }
  },
  "cells": [
    {
      "cell_type": "code",
      "execution_count": null,
      "metadata": {
        "colab": {
          "base_uri": "https://localhost:8080/"
        },
        "id": "RINsVoRJyJuw",
        "outputId": "1491888e-cd29-4733-ca48-298879d7e793"
      },
      "outputs": [
        {
          "name": "stdout",
          "output_type": "stream",
          "text": [
            "Start Node: Arad\n",
            "destination: Bucharest\n"
          ]
        }
      ],
      "source": [
        "input_file = \"input.txt\"\n",
        "output_file = \"output.txt\"\n",
        "start_node = input(\"Start Node: \")\n",
        "end_node = input(\"destination: \")\n",
        "heuristics = {}\n",
        "graph = {}\n",
        "\n",
        "with open(input_file, \"r\") as file:\n",
        "    for line in file:\n",
        "        parts = line.split()\n",
        "        city_name = parts[0]\n",
        "        heuristic_value = int(parts[1])\n",
        "        heuristics[city_name] = heuristic_value\n",
        "        neighbors = [(parts[i], int(parts[i + 1])) for i in range(2, len(parts), 2)]\n",
        "        graph[city_name] = neighbors\n",
        "\n",
        "import heapq\n",
        "\n",
        "routes = [(heuristics[start_node], start_node, [start_node], 0)]\n",
        "heapq.heapify(routes)\n",
        "\n",
        "\n",
        "optimal_path = None\n",
        "minimum_distance = None\n",
        "\n",
        "while routes:\n",
        "    estimated_cost, current_location, path_taken, distance_covered = heapq.heappop(routes)\n",
        "\n",
        "    if current_location == end_node:\n",
        "        optimal_path = path_taken\n",
        "        minimum_distance = distance_covered\n",
        "        break\n",
        "\n",
        "\n",
        "    for next_stop, travel_cost in graph.get(current_location, []):\n",
        "        total_travel_cost = distance_covered + travel_cost\n",
        "        projected_cost = total_travel_cost + heuristics.get(next_stop, float('inf'))\n",
        "        heapq.heappush(routes, (projected_cost, next_stop, path_taken + [next_stop], total_travel_cost))\n",
        "\n",
        "\n",
        "with open(output_file, \"w\") as file:\n",
        "    if optimal_path:\n",
        "        file.write(\"Best Route: \" + \" -> \".join(optimal_path) + \"\\n\")\n",
        "        file.write(f\"Total Distance: {minimum_distance} km\\n\")\n",
        "    else:\n",
        "        file.write(\"No valid route available.\\n\")\n",
        "\n",
        "\n"
      ]
    }
  ]
}